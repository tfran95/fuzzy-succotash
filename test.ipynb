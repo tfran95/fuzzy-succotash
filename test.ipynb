{
 "cells": [
  {
   "cell_type": "code",
   "execution_count": 1,
   "id": "c9586feb-53b0-4d23-a611-1eb7b03e5eda",
   "metadata": {},
   "outputs": [],
   "source": [
    "import pandas as pd\n",
    "import numpy as np\n",
    "from datetime import date, time, datetime, timedelta\n",
    "fields = [\"Marker Name\",\"Description\",\"In\",\"Marker Type\"]\n",
    "df = pd.read_csv('C:/Users/zumie/Documents/GitHub/fuzzy-succotash/data/ep.csv', encoding=\"UTF-16\", delimiter='\\t', usecols=fields)\n",
    "df['In'] = pd.to_datetime(df['In'], format='%H:%M:%S:%f').dt.time"
   ]
  },
  {
   "cell_type": "code",
   "execution_count": 2,
   "id": "2543108f-b428-4e18-a233-09eaeae6affa",
   "metadata": {},
   "outputs": [
    {
     "name": "stdout",
     "output_type": "stream",
     "text": [
      "<class 'pandas.core.frame.DataFrame'>\n",
      "RangeIndex: 1566 entries, 0 to 1565\n",
      "Data columns (total 4 columns):\n",
      " #   Column       Non-Null Count  Dtype \n",
      "---  ------       --------------  ----- \n",
      " 0   Marker Name  1566 non-null   object\n",
      " 1   Description  1566 non-null   object\n",
      " 2   In           1566 non-null   object\n",
      " 3   Marker Type  1566 non-null   object\n",
      "dtypes: object(4)\n",
      "memory usage: 49.1+ KB\n"
     ]
    }
   ],
   "source": [
    "df.info()"
   ]
  },
  {
   "cell_type": "code",
   "execution_count": 3,
   "id": "df2f2995-e0c5-4db0-a624-be323e5c8af4",
   "metadata": {},
   "outputs": [],
   "source": [
    "p = df[df['Marker Name'] == 'blink'] # conditional ex"
   ]
  },
  {
   "cell_type": "code",
   "execution_count": 4,
   "id": "e30c14ab-742c-4b20-9555-ab258b42b89d",
   "metadata": {},
   "outputs": [
    {
     "data": {
      "text/html": [
       "<div>\n",
       "<style scoped>\n",
       "    .dataframe tbody tr th:only-of-type {\n",
       "        vertical-align: middle;\n",
       "    }\n",
       "\n",
       "    .dataframe tbody tr th {\n",
       "        vertical-align: top;\n",
       "    }\n",
       "\n",
       "    .dataframe thead th {\n",
       "        text-align: right;\n",
       "    }\n",
       "</style>\n",
       "<table border=\"1\" class=\"dataframe\">\n",
       "  <thead>\n",
       "    <tr style=\"text-align: right;\">\n",
       "      <th></th>\n",
       "      <th>Marker Name</th>\n",
       "      <th>Description</th>\n",
       "      <th>In</th>\n",
       "      <th>Marker Type</th>\n",
       "    </tr>\n",
       "  </thead>\n",
       "  <tbody>\n",
       "    <tr>\n",
       "      <th>0</th>\n",
       "      <td>onscreen</td>\n",
       "      <td>PhilWelch</td>\n",
       "      <td>00:00:28.190000</td>\n",
       "      <td>Segmentation</td>\n",
       "    </tr>\n",
       "    <tr>\n",
       "      <th>1</th>\n",
       "      <td>startBackground</td>\n",
       "      <td>PhilWelch</td>\n",
       "      <td>00:00:28.190000</td>\n",
       "      <td>Segmentation</td>\n",
       "    </tr>\n",
       "    <tr>\n",
       "      <th>2</th>\n",
       "      <td>offscreen</td>\n",
       "      <td>PhilWelch</td>\n",
       "      <td>00:00:34.040000</td>\n",
       "      <td>Segmentation</td>\n",
       "    </tr>\n",
       "    <tr>\n",
       "      <th>3</th>\n",
       "      <td>endBackground</td>\n",
       "      <td>PhilWelch</td>\n",
       "      <td>00:00:34.040000</td>\n",
       "      <td>Segmentation</td>\n",
       "    </tr>\n",
       "    <tr>\n",
       "      <th>20</th>\n",
       "      <td>onscreen</td>\n",
       "      <td>PhilWelch</td>\n",
       "      <td>00:01:29.090000</td>\n",
       "      <td>Segmentation</td>\n",
       "    </tr>\n",
       "    <tr>\n",
       "      <th>...</th>\n",
       "      <td>...</td>\n",
       "      <td>...</td>\n",
       "      <td>...</td>\n",
       "      <td>...</td>\n",
       "    </tr>\n",
       "    <tr>\n",
       "      <th>1559</th>\n",
       "      <td>offscreen</td>\n",
       "      <td>PhilWelch</td>\n",
       "      <td>00:28:06.120000</td>\n",
       "      <td>Segmentation</td>\n",
       "    </tr>\n",
       "    <tr>\n",
       "      <th>1560</th>\n",
       "      <td>startBackground</td>\n",
       "      <td>PhilWelch</td>\n",
       "      <td>00:28:11.090000</td>\n",
       "      <td>Segmentation</td>\n",
       "    </tr>\n",
       "    <tr>\n",
       "      <th>1561</th>\n",
       "      <td>onscreen</td>\n",
       "      <td>PhilWelch</td>\n",
       "      <td>00:28:11.090000</td>\n",
       "      <td>Segmentation</td>\n",
       "    </tr>\n",
       "    <tr>\n",
       "      <th>1564</th>\n",
       "      <td>endBackground</td>\n",
       "      <td>PhilWelch</td>\n",
       "      <td>00:28:14.280000</td>\n",
       "      <td>Segmentation</td>\n",
       "    </tr>\n",
       "    <tr>\n",
       "      <th>1565</th>\n",
       "      <td>offscreen</td>\n",
       "      <td>PhilWelch</td>\n",
       "      <td>00:28:14.280000</td>\n",
       "      <td>Segmentation</td>\n",
       "    </tr>\n",
       "  </tbody>\n",
       "</table>\n",
       "<p>240 rows × 4 columns</p>\n",
       "</div>"
      ],
      "text/plain": [
       "          Marker Name Description               In   Marker Type\n",
       "0            onscreen   PhilWelch  00:00:28.190000  Segmentation\n",
       "1     startBackground   PhilWelch  00:00:28.190000  Segmentation\n",
       "2           offscreen   PhilWelch  00:00:34.040000  Segmentation\n",
       "3       endBackground   PhilWelch  00:00:34.040000  Segmentation\n",
       "20           onscreen   PhilWelch  00:01:29.090000  Segmentation\n",
       "...               ...         ...              ...           ...\n",
       "1559        offscreen   PhilWelch  00:28:06.120000  Segmentation\n",
       "1560  startBackground   PhilWelch  00:28:11.090000  Segmentation\n",
       "1561         onscreen   PhilWelch  00:28:11.090000  Segmentation\n",
       "1564    endBackground   PhilWelch  00:28:14.280000  Segmentation\n",
       "1565        offscreen   PhilWelch  00:28:14.280000  Segmentation\n",
       "\n",
       "[240 rows x 4 columns]"
      ]
     },
     "execution_count": 4,
     "metadata": {},
     "output_type": "execute_result"
    }
   ],
   "source": [
    "subjects = df.Description.unique() # unique ex\n",
    "p = df[df['Description'] == subjects[0]] # conditional using subject array\n",
    "p[p['Marker Type'] == 'Segmentation']"
   ]
  }
 ],
 "metadata": {
  "kernelspec": {
   "display_name": "Python 3 (ipykernel)",
   "language": "python",
   "name": "python3"
  },
  "language_info": {
   "codemirror_mode": {
    "name": "ipython",
    "version": 3
   },
   "file_extension": ".py",
   "mimetype": "text/x-python",
   "name": "python",
   "nbconvert_exporter": "python",
   "pygments_lexer": "ipython3",
   "version": "3.9.2"
  }
 },
 "nbformat": 4,
 "nbformat_minor": 5
}
