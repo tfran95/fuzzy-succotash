{
 "cells": [
  {
   "cell_type": "code",
   "execution_count": 20,
   "id": "c9586feb-53b0-4d23-a611-1eb7b03e5eda",
   "metadata": {},
   "outputs": [
    {
     "name": "stdout",
     "output_type": "stream",
     "text": [
      "<class 'pandas.core.frame.DataFrame'>\n",
      "RangeIndex: 1567 entries, 0 to 1566\n",
      "Data columns (total 6 columns):\n",
      " #   Column       Non-Null Count  Dtype  \n",
      "---  ------       --------------  -----  \n",
      " 0   Marker Name  1566 non-null   object \n",
      " 1   Description  2 non-null      object \n",
      " 2   In           1 non-null      object \n",
      " 3   Out          0 non-null      float64\n",
      " 4   Duration     0 non-null      float64\n",
      " 5   Marker Type  0 non-null      float64\n",
      "dtypes: float64(3), object(3)\n",
      "memory usage: 73.6+ KB\n",
      "None\n"
     ]
    }
   ],
   "source": [
    "import pandas as pd\n",
    "import numpy as np\n",
    "header = [\"Marker Name\", \"Description\", \"In\", \"Out\", \"Duration\", \"Marker Type\"]\n",
    "episode = pd.read_csv('C:/Users/zumie/Documents/GitHub/fuzzy-succotash/data/ep.csv', encoding = \"UTF-16\", names = header, delimiter = ' ')\n",
    "print(episode.info())"
   ]
  },
  {
   "cell_type": "code",
   "execution_count": 19,
   "id": "74612a14-193b-4fc5-bb7d-f58d79022d82",
   "metadata": {},
   "outputs": [
    {
     "name": "stdout",
     "output_type": "stream",
     "text": [
      "                                            Marker Name  Description  In  Out  \\\n",
      "0     Marker Name\\tDescription\\tIn\\tOut\\tDuration\\tM...          NaN NaN  NaN   \n",
      "1     onscreen\\tPhilWelch\\t00:00:28:19\\t00:00:28:19\\...          NaN NaN  NaN   \n",
      "2     startBackground\\tPhilWelch\\t00:00:28:19\\t00:00...          NaN NaN  NaN   \n",
      "3     offscreen\\tPhilWelch\\t00:00:34:04\\t00:00:34:04...          NaN NaN  NaN   \n",
      "4     endBackground\\tPhilWelch\\t00:00:34:04\\t00:00:3...          NaN NaN  NaN   \n",
      "...                                                 ...          ...  ..  ...   \n",
      "1562  onscreen\\tPhilWelch\\t00:28:11:09\\t00:28:11:09\\...          NaN NaN  NaN   \n",
      "1563  blink\\tPhilWelch\\t00:28:13:23\\t00:28:13:23\\t00...          NaN NaN  NaN   \n",
      "1564  blink\\tPhilWelch\\t00:28:13:28\\t00:28:13:28\\t00...          NaN NaN  NaN   \n",
      "1565  endBackground\\tPhilWelch\\t00:28:14:28\\t00:28:1...          NaN NaN  NaN   \n",
      "1566  offscreen\\tPhilWelch\\t00:28:14:28\\t00:28:14:28...          NaN NaN  NaN   \n",
      "\n",
      "      Duration  Marker Type  \n",
      "0          NaN          NaN  \n",
      "1          NaN          NaN  \n",
      "2          NaN          NaN  \n",
      "3          NaN          NaN  \n",
      "4          NaN          NaN  \n",
      "...        ...          ...  \n",
      "1562       NaN          NaN  \n",
      "1563       NaN          NaN  \n",
      "1564       NaN          NaN  \n",
      "1565       NaN          NaN  \n",
      "1566       NaN          NaN  \n",
      "\n",
      "[1567 rows x 6 columns]\n"
     ]
    }
   ],
   "source": [
    "print(episode)"
   ]
  },
  {
   "cell_type": "code",
   "execution_count": null,
   "id": "dc2d46ea-b5b9-401b-8898-09575ffc5a6e",
   "metadata": {},
   "outputs": [],
   "source": []
  }
 ],
 "metadata": {
  "kernelspec": {
   "display_name": "Python 3 (ipykernel)",
   "language": "python",
   "name": "python3"
  },
  "language_info": {
   "codemirror_mode": {
    "name": "ipython",
    "version": 3
   },
   "file_extension": ".py",
   "mimetype": "text/x-python",
   "name": "python",
   "nbconvert_exporter": "python",
   "pygments_lexer": "ipython3",
   "version": "3.9.2"
  }
 },
 "nbformat": 4,
 "nbformat_minor": 5
}
