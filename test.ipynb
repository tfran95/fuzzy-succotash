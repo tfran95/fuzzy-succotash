{
 "cells": [
  {
   "cell_type": "code",
   "execution_count": 1,
   "id": "c9586feb-53b0-4d23-a611-1eb7b03e5eda",
   "metadata": {},
   "outputs": [],
   "source": [
    "import pandas as pd\n",
    "import numpy as np\n",
    "from datetime import date, time, datetime, timedelta\n",
    "fields = [\"Marker Name\",\"Description\",\"In\",\"Marker Type\"]\n",
    "episode = pd.read_csv('C:/Users/zumie/Documents/GitHub/fuzzy-succotash/data/ep.csv', encoding=\"UTF-16\", delimiter='\\t', usecols=fields)\n",
    "episode['In'] = pd.to_datetime(episode['In'], format='%H:%M:%S:%f')\n",
    "episode['In'] = episode['In'].dt.time"
   ]
  },
  {
   "cell_type": "code",
   "execution_count": 2,
   "id": "2543108f-b428-4e18-a233-09eaeae6affa",
   "metadata": {},
   "outputs": [
    {
     "name": "stdout",
     "output_type": "stream",
     "text": [
      "<class 'pandas.core.frame.DataFrame'>\n",
      "RangeIndex: 1566 entries, 0 to 1565\n",
      "Data columns (total 4 columns):\n",
      " #   Column       Non-Null Count  Dtype \n",
      "---  ------       --------------  ----- \n",
      " 0   Marker Name  1566 non-null   object\n",
      " 1   Description  1566 non-null   object\n",
      " 2   In           1566 non-null   object\n",
      " 3   Marker Type  1566 non-null   object\n",
      "dtypes: object(4)\n",
      "memory usage: 49.1+ KB\n"
     ]
    }
   ],
   "source": [
    "episode.info()"
   ]
  },
  {
   "cell_type": "code",
   "execution_count": 3,
   "id": "74612a14-193b-4fc5-bb7d-f58d79022d82",
   "metadata": {},
   "outputs": [
    {
     "data": {
      "text/html": [
       "<div>\n",
       "<style scoped>\n",
       "    .dataframe tbody tr th:only-of-type {\n",
       "        vertical-align: middle;\n",
       "    }\n",
       "\n",
       "    .dataframe tbody tr th {\n",
       "        vertical-align: top;\n",
       "    }\n",
       "\n",
       "    .dataframe thead th {\n",
       "        text-align: right;\n",
       "    }\n",
       "</style>\n",
       "<table border=\"1\" class=\"dataframe\">\n",
       "  <thead>\n",
       "    <tr style=\"text-align: right;\">\n",
       "      <th></th>\n",
       "      <th>Marker Name</th>\n",
       "      <th>Description</th>\n",
       "      <th>In</th>\n",
       "      <th>Marker Type</th>\n",
       "    </tr>\n",
       "  </thead>\n",
       "  <tbody>\n",
       "    <tr>\n",
       "      <th>count</th>\n",
       "      <td>1566</td>\n",
       "      <td>1566</td>\n",
       "      <td>1566</td>\n",
       "      <td>1566</td>\n",
       "    </tr>\n",
       "    <tr>\n",
       "      <th>unique</th>\n",
       "      <td>18</td>\n",
       "      <td>4</td>\n",
       "      <td>1384</td>\n",
       "      <td>2</td>\n",
       "    </tr>\n",
       "    <tr>\n",
       "      <th>top</th>\n",
       "      <td>blink</td>\n",
       "      <td>MaureenSmyth</td>\n",
       "      <td>00:13:34.090000</td>\n",
       "      <td>Segmentation</td>\n",
       "    </tr>\n",
       "    <tr>\n",
       "      <th>freq</th>\n",
       "      <td>708</td>\n",
       "      <td>495</td>\n",
       "      <td>3</td>\n",
       "      <td>858</td>\n",
       "    </tr>\n",
       "  </tbody>\n",
       "</table>\n",
       "</div>"
      ],
      "text/plain": [
       "       Marker Name   Description               In   Marker Type\n",
       "count         1566          1566             1566          1566\n",
       "unique          18             4             1384             2\n",
       "top          blink  MaureenSmyth  00:13:34.090000  Segmentation\n",
       "freq           708           495                3           858"
      ]
     },
     "execution_count": 3,
     "metadata": {},
     "output_type": "execute_result"
    }
   ],
   "source": [
    "episode.describe()"
   ]
  }
 ],
 "metadata": {
  "kernelspec": {
   "display_name": "Python 3 (ipykernel)",
   "language": "python",
   "name": "python3"
  },
  "language_info": {
   "codemirror_mode": {
    "name": "ipython",
    "version": 3
   },
   "file_extension": ".py",
   "mimetype": "text/x-python",
   "name": "python",
   "nbconvert_exporter": "python",
   "pygments_lexer": "ipython3",
   "version": "3.9.2"
  }
 },
 "nbformat": 4,
 "nbformat_minor": 5
}
